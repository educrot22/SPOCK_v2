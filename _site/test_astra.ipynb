{
 "cells": [
  {
   "cell_type": "code",
   "execution_count": 29,
   "id": "04743ae2-ed6e-45cd-a0c4-406905ecb0a9",
   "metadata": {},
   "outputs": [],
   "source": [
    "import pandas as pd\n",
    "\n",
    "def read_schedule(schedule_path) -> pd.DataFrame:\n",
    "    \"\"\"\n",
    "    Read the schedule CSV file and return it as a pandas DataFrame.\n",
    "\n",
    "    Returns:\n",
    "        pd.DataFrame: A DataFrame containing the schedule data, with columns 'start_time' and 'end_time'.\n",
    "\n",
    "    \"\"\"\n",
    "    # TODO: schedule validity checker, add schedule as string to log?\n",
    "\n",
    "    schedule = pd.read_csv(schedule_path)\n",
    "    schedule['start_time'] = pd.to_datetime(schedule.start_time)\n",
    "    schedule['end_time'] = pd.to_datetime(schedule.end_time)\n",
    "\n",
    "    # Sort the schedule by start_time\n",
    "    schedule = schedule.sort_values(by=['start_time'])\n",
    "\n",
    "    schedule['completed'] = False\n",
    "\n",
    "    return schedule\n",
    "    "
   ]
  },
  {
   "cell_type": "code",
   "execution_count": 30,
   "id": "3d7adde5-f4e7-46ca-9ce6-eab47ebb2a61",
   "metadata": {},
   "outputs": [
    {
     "data": {
      "text/html": [
       "<div>\n",
       "<style scoped>\n",
       "    .dataframe tbody tr th:only-of-type {\n",
       "        vertical-align: middle;\n",
       "    }\n",
       "\n",
       "    .dataframe tbody tr th {\n",
       "        vertical-align: top;\n",
       "    }\n",
       "\n",
       "    .dataframe thead th {\n",
       "        text-align: right;\n",
       "    }\n",
       "</style>\n",
       "<table border=\"1\" class=\"dataframe\">\n",
       "  <thead>\n",
       "    <tr style=\"text-align: right;\">\n",
       "      <th></th>\n",
       "      <th>device_type</th>\n",
       "      <th>device_name</th>\n",
       "      <th>action_type</th>\n",
       "      <th>action_value</th>\n",
       "      <th>start_time</th>\n",
       "      <th>end_time</th>\n",
       "      <th>completed</th>\n",
       "    </tr>\n",
       "  </thead>\n",
       "  <tbody>\n",
       "    <tr>\n",
       "      <th>0</th>\n",
       "      <td>Camera</td>\n",
       "      <td>camera_Callisto</td>\n",
       "      <td>open</td>\n",
       "      <td>{}</td>\n",
       "      <td>2023-12-20 23:25:07.077</td>\n",
       "      <td>2023-12-21 09:53:39.737</td>\n",
       "      <td>False</td>\n",
       "    </tr>\n",
       "    <tr>\n",
       "      <th>1</th>\n",
       "      <td>Camera</td>\n",
       "      <td>camera_Callisto</td>\n",
       "      <td>flats</td>\n",
       "      <td>{'filter': ['I+z'], 'n': [10]}</td>\n",
       "      <td>2023-12-20 23:25:07.077</td>\n",
       "      <td>2023-12-21 00:10:40.020</td>\n",
       "      <td>False</td>\n",
       "    </tr>\n",
       "    <tr>\n",
       "      <th>2</th>\n",
       "      <td>Camera</td>\n",
       "      <td>camera_Callisto</td>\n",
       "      <td>object</td>\n",
       "      <td>{'object': 'Sp0544-2433', 'filter': 'I+z', 'ra...</td>\n",
       "      <td>2023-12-21 00:10:40.020</td>\n",
       "      <td>2023-12-21 09:08:20.020</td>\n",
       "      <td>False</td>\n",
       "    </tr>\n",
       "    <tr>\n",
       "      <th>3</th>\n",
       "      <td>Camera</td>\n",
       "      <td>camera_Callisto</td>\n",
       "      <td>flats</td>\n",
       "      <td>{'filter': ['I+z'], 'n': [10]}</td>\n",
       "      <td>2023-12-21 09:08:20.020</td>\n",
       "      <td>2023-12-21 09:53:39.737</td>\n",
       "      <td>False</td>\n",
       "    </tr>\n",
       "    <tr>\n",
       "      <th>4</th>\n",
       "      <td>Camera</td>\n",
       "      <td>camera_Callisto</td>\n",
       "      <td>close</td>\n",
       "      <td>{}</td>\n",
       "      <td>2023-12-21 09:53:39.737</td>\n",
       "      <td>2023-12-21 09:58:39.737</td>\n",
       "      <td>False</td>\n",
       "    </tr>\n",
       "    <tr>\n",
       "      <th>5</th>\n",
       "      <td>Camera</td>\n",
       "      <td>camera_Callisto</td>\n",
       "      <td>calibration</td>\n",
       "      <td>{'exptime': [0, 10, 15, 30, 60, 63, 120], 'n':...</td>\n",
       "      <td>2023-12-21 09:58:39.737</td>\n",
       "      <td>2023-12-21 10:23:39.737</td>\n",
       "      <td>False</td>\n",
       "    </tr>\n",
       "  </tbody>\n",
       "</table>\n",
       "</div>"
      ],
      "text/plain": [
       "  device_type      device_name  action_type  \\\n",
       "0      Camera  camera_Callisto         open   \n",
       "1      Camera  camera_Callisto        flats   \n",
       "2      Camera  camera_Callisto       object   \n",
       "3      Camera  camera_Callisto        flats   \n",
       "4      Camera  camera_Callisto        close   \n",
       "5      Camera  camera_Callisto  calibration   \n",
       "\n",
       "                                        action_value              start_time  \\\n",
       "0                                                 {} 2023-12-20 23:25:07.077   \n",
       "1                     {'filter': ['I+z'], 'n': [10]} 2023-12-20 23:25:07.077   \n",
       "2  {'object': 'Sp0544-2433', 'filter': 'I+z', 'ra... 2023-12-21 00:10:40.020   \n",
       "3                     {'filter': ['I+z'], 'n': [10]} 2023-12-21 09:08:20.020   \n",
       "4                                                 {} 2023-12-21 09:53:39.737   \n",
       "5  {'exptime': [0, 10, 15, 30, 60, 63, 120], 'n':... 2023-12-21 09:58:39.737   \n",
       "\n",
       "                 end_time  completed  \n",
       "0 2023-12-21 09:53:39.737      False  \n",
       "1 2023-12-21 00:10:40.020      False  \n",
       "2 2023-12-21 09:08:20.020      False  \n",
       "3 2023-12-21 09:53:39.737      False  \n",
       "4 2023-12-21 09:58:39.737      False  \n",
       "5 2023-12-21 10:23:39.737      False  "
      ]
     },
     "execution_count": 30,
     "metadata": {},
     "output_type": "execute_result"
    }
   ],
   "source": [
    "schedule_path = \"/Users/ed268546/Documents/codes/SPOCK/DATABASE/Callisto/Astra/Callisto_2023-12-20.csv\"\n",
    "\n",
    "read_schedule(schedule_path)"
   ]
  },
  {
   "cell_type": "code",
   "execution_count": 32,
   "id": "43962c48-0eff-4758-8d65-e96e82ebd14f",
   "metadata": {},
   "outputs": [
    {
     "name": "stdout",
     "output_type": "stream",
     "text": [
      "-----> 2023-12-18 Astra folder updated on the HUB for Callisto\n"
     ]
    }
   ],
   "source": [
    "import os\n",
    "from SPOCK import path_spock, pwd_HUB\n",
    "\n",
    "import subprocess\n",
    "\n",
    "t_now = \"2023-12-18\"\n",
    "\n",
    "path_local_astra_file = os.path.join(path_spock + '/DATABASE/', 'Callisto', 'Astra', 'Callisto_'+str(t_now)+'.csv')\n",
    "p = subprocess.Popen([\"sshpass\", \"-p\", pwd_HUB, \"scp\", path_local_astra_file,\n",
    "                      'speculoos@172.16.4.169:/home/speculoos/Plans_scheduler/Callisto/Astra'])\n",
    "print('----->', t_now, 'Astra folder updated on the HUB for Callisto')"
   ]
  },
  {
   "cell_type": "code",
   "execution_count": 14,
   "id": "acbd8ff9-8cac-41a7-8a27-aa8af1e2d961",
   "metadata": {},
   "outputs": [
    {
     "data": {
      "text/plain": [
       "'/Users/ed268546/Documents/codes/SPOCK/DATABASE/Callisto/Astra/Callisto_2023-12-17.csv'"
      ]
     },
     "execution_count": 14,
     "metadata": {},
     "output_type": "execute_result"
    }
   ],
   "source": [
    "path_local_astra_file"
   ]
  },
  {
   "cell_type": "code",
   "execution_count": null,
   "id": "8798225a-5c1d-4420-a657-ad72a7f49a2f",
   "metadata": {},
   "outputs": [],
   "source": []
  }
 ],
 "metadata": {
  "kernelspec": {
   "display_name": "Python 3 (ipykernel)",
   "language": "python",
   "name": "python3"
  },
  "language_info": {
   "codemirror_mode": {
    "name": "ipython",
    "version": 3
   },
   "file_extension": ".py",
   "mimetype": "text/x-python",
   "name": "python",
   "nbconvert_exporter": "python",
   "pygments_lexer": "ipython3",
   "version": "3.8.9"
  }
 },
 "nbformat": 4,
 "nbformat_minor": 5
}
